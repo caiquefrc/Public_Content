{
 "cells": [
  {
   "cell_type": "markdown",
   "id": "28cec5c6-f16d-4bb1-952d-5f567097dae8",
   "metadata": {},
   "source": [
    "<center>\n",
    "    <img src=\"https://cf-courses-data.s3.us.cloud-object-storage.appdomain.cloud/IBMDeveloperSkillsNetwork-DS0105EN-SkillsNetwork/labs/Module2/images/SN_web_lightmode.png\" width=\"300\" alt=\"cognitiveclass.ai logo\"  />\n",
    "</center>"
   ]
  },
  {
   "cell_type": "markdown",
   "id": "43e781ea-34ec-4027-bc2e-639f070dbcd5",
   "metadata": {
    "tags": []
   },
   "source": [
    "# My Jupyter Notebook on IBM Watson Studio"
   ]
  },
  {
   "cell_type": "markdown",
   "id": "93f291e2-f480-49e1-ac6b-f9eb20fb4377",
   "metadata": {},
   "source": [
    "**Caique Carvalho**\n",
    "<br>Data Analyst"
   ]
  },
  {
   "cell_type": "markdown",
   "id": "3017b7e6-0ac7-40ae-8bac-e6ada469612f",
   "metadata": {},
   "source": [
    "*I am interested in Data Science because it has many 'tools' that can be applied to different subjects*"
   ]
  },
  {
   "cell_type": "markdown",
   "id": "247d38b6-52f8-43e3-9525-34a6f40bad73",
   "metadata": {},
   "source": [
    "### The cell below has the 'print' function from Python"
   ]
  },
  {
   "cell_type": "code",
   "execution_count": 1,
   "id": "9985677b-78de-46b1-8204-5d22ffda9bf6",
   "metadata": {},
   "outputs": [
    {
     "name": "stdout",
     "output_type": "stream",
     "text": [
      "Hello World\n"
     ]
    }
   ],
   "source": [
    "print(\"Hello World\")"
   ]
  },
  {
   "cell_type": "markdown",
   "id": "f84aa713-3f54-4323-8e1a-5d9fc812ed28",
   "metadata": {},
   "source": [
    "In HTML, some tags have the parameter <strong>style</strong>, where it is possible to modified how the text in the tag is shown. \n",
    "<br>Tags such as `<code>` and `<span>` have this parameter.\n",
    "<br>The table below has some examples:\n",
    "\n",
    "|Aspect|Code|How it is displayed|\n",
    "|:--|:--|:--|\n",
    "|Background Color|`<code style=\"background:rgb(0,255,0)\">text with green background</code>`|<code style=\"background:rgb(0,255,0)\">text with green background</code>|\n",
    "|Text Color|`<code style=\"color:#FF0000\">text in red</code>`|<code style=\"color:#FF0000\">text in red</code>|\n",
    "\n",
    "<strong>Obs:</strong>\n",
    "- the color can be indicated by using its RGB code (background color example) or by its hex code (text color example)\n",
    "- there are other ways to modified these aspects, besides there are other aspects that can be modified, such as font-family"
   ]
  }
 ],
 "metadata": {
  "kernelspec": {
   "display_name": "Python 3 (ipykernel)",
   "language": "python",
   "name": "python3"
  },
  "language_info": {
   "codemirror_mode": {
    "name": "ipython",
    "version": 3
   },
   "file_extension": ".py",
   "mimetype": "text/x-python",
   "name": "python",
   "nbconvert_exporter": "python",
   "pygments_lexer": "ipython3",
   "version": "3.10.1"
  }
 },
 "nbformat": 4,
 "nbformat_minor": 5
}
